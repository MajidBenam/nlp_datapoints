{
 "cells": [
  {
   "cell_type": "markdown",
   "id": "literary-sailing",
   "metadata": {},
   "source": [
    "# nlp_datapoints_jupyter"
   ]
  },
  {
   "cell_type": "markdown",
   "id": "cloudy-reunion",
   "metadata": {},
   "source": [
    "Read this to get an idea what I am going to doi:\n",
    "\n",
    "- I am going to bring in all the HTML files from seshat.info (Wiki) and seshatdatabrowser.\n",
    "\n",
    "* Wiki files will be from July 2022.\n",
    "* Databrowser files will be from Jan 2023.\n",
    "\n",
    "The idea is to build two separate list of the datapouints in both files:\n",
    "\n",
    "An NLP datapoint will have the following information:\n",
    "\n",
    "- 1  * polity_name (AfDurrn, YeZiyad, etc.)\n",
    "- 1  * var_name (Judges, Population, etc.) \n",
    "- 1+ * var_value (absent, unknown, present, 5000, etc.)  :: this will need cleaning.\n",
    "- 1  * is_it_on_wiki (True, False)\n",
    "- 1  * is_it_on_browser (True, False)\n",
    "- 1- * ref (Gakpo. 2006, Savbeti, 2004: The ups and downs of life, etc. )\n",
    "- 1- * ref_order_wiki (ref 13)\n",
    "- 1- * ref_order_browser (ref 16)\n",
    "- 1- * var_text (As poer our research there were Judges in AfdUrnn, etc)\n",
    "- 1- * var_ref_pages (13, 15-19)\n",
    "- 1- * ref_has_better_value (True, False)\n",
    "- 1- * ref_better_vale (Coady, 2006  ---> Lefts and Rights of Life, Coady, 2006, Rabbit Publications)\n",
    "- 1  * ref_has_visible_zotero (True, False)\n",
    "- 1  * ref_visible_zotero (\"BGSERZYQ\", etc. or \"HAS_NO_ZOTERO\"\n",
    "\n",
    "\n",
    "\n",
    "\n",
    "\n",
    "In order to get the job done, I need to bring the necessary files and the functions that I have written and used through time.\n",
    "\n",
    "- STEP0 (DONE): Bring in the Full HTML FILES\n",
    "- STEP1: Make simpler HTML files removing all the unneeded and noise data, and tagging the divs and all.\n",
    "- MAke sure you check for the last <p> tags that might appear at the end of HTML files and might contain useful information for expanding the shorter references: (Coady, 2006  ---> Lefts and Rights of Life, Coady, 2006, Rabbit Publications)\n",
    "- Before scraping the files, make sure you ignore values such as RA, Expert, etc, that do not have any meaningful scientific info in them.\n",
    "- Scrape the smaller HTML files, and look for these info:\n",
    "[polity_name, var_name, var_value, has_ref, ref_order, etc.]"
   ]
  },
  {
   "cell_type": "markdown",
   "id": "complimentary-depth",
   "metadata": {},
   "source": [
    "| **Website** | All Citations | Unique Citations | with visible Zotero: Unique (ALL)| with pages: Unique (ALL)| with ONE page: Unique (ALL)| with 2-5 pages: Unique (ALL)| with +5 pages: Unique (ALL)| Pers. Comms: Unique (ALL)| All Refs | Unique Citations |\n",
    "|:-:|:-:|:-:|:-:|:-:|:-:|:-:|:-:|:-:|:-:|:-:|\n",
    "| **Seshat.info (Wiki)** | **176145 **| **28390 **|**1455 (7831)**|**18005 (109750)**|**14072 (73170)**|**3548 (35234)**|**385 (1346)**|**191 (5605)**|****|****|\n",
    "| **Seshatbrowser** | **50192** | **14917** | **752 (2358)**|**10010 (31836)**|**8025 (25371)**|**1750 (6019)**|**235 (446)**|**126 (1543)**|x|y|\n",
    "\n",
    "\n",
    "| **Website** | All Citations | Unique Citations | Unique Refs | with visible Zotero: Unique (ALL)| with pages: Unique (ALL)| with ONE page: Unique (ALL)| with 2-5 pages: Unique (ALL)| with +5 pages: Unique (ALL)| Pers. Comms: Unique (ALL)|\n",
    "|:-:|:-:|:-:|:-:|:-:|:-:|:-:|:-:|:-:|:-:|\n",
    "| **Seshat.info (Wiki)** | **176145**| **28390**|**16876**|1455 **(7831)**|18005 **(109750)**|14072 **(73170)**|3548 **(35234)**|385 **(1346)**|191 **(5605)**|\n",
    "| **Seshatbrowser**|**50192**| **14917**|**8799**|752 **(2358)**|10010 **(31836)**|8025 **(25371)**|1750 **(6019)**|235 **(446)**|126 **(1543)**|\n",
    "\n",
    "\n",
    "\n",
    "#### `All Citations` Explanation\n",
    "- This is essentially equal to the number of  `NLP Points` because each use of a citation is an NLP point.  \n",
    "\n",
    "#### `Uniques with visible Zotero` Explanation\n",
    "- These are the ones with a clear Zotero link 100% certain. \n",
    "\n",
    "#### - On Browser: There are `328` children in the citations. In other words in `144` cases, [x] in references superscipt in the text, refers to two or more citations. A question is whether they add anything to the total number of citations or unique citations. Worth checking.\n",
    "\n",
    "#### - On Wiki: There are `494` children in the citations. In other words in `212` cases, [x] in references superscipt in the text, refers to two or more citations. A question is whether they add anything to the total number of citations or unique citations. Worth checking."
   ]
  },
  {
   "cell_type": "code",
   "execution_count": null,
   "id": "seventh-hungarian",
   "metadata": {},
   "outputs": [],
   "source": [
    "# html_folders: seshat_browser_Jan_30_2023    /    seshat_info_Jul_22 "
   ]
  },
  {
   "cell_type": "code",
   "execution_count": null,
   "id": "placed-lucas",
   "metadata": {},
   "outputs": [],
   "source": [
    "from python_files import z_helpers, main_scraper\n",
    "import time\n",
    "\n",
    "# try the other dic_finder... This is somehow for duplicate finders....\n",
    "# Do it for Browser:\n",
    "start_time = time.time()\n",
    "all_refs_browser, all_unique_refs_browser = z_helpers.ultimate_citation_dic_maker_duplicate_finder(\"seshat_browser_Jan_30_2023\", ALL_POLITIES=True)\n",
    "\n",
    "elapsed_time = time.time() - start_time\n",
    "elapsed_minutes = elapsed_time / 60\n",
    "\n",
    "print(\"Browser Work: --- %s minutes --- \" % elapsed_minutes)"
   ]
  },
  {
   "cell_type": "code",
   "execution_count": null,
   "id": "other-spokesman",
   "metadata": {},
   "outputs": [],
   "source": [
    "from python_files import z_helpers, main_scraper\n",
    "import time\n",
    "\n",
    "# Do it for Wiki\n",
    "start_time = time.time()\n",
    "all_refs_wiki, all_unique_refs_wiki = z_helpers.ultimate_citation_dic_maker_duplicate_finder(\"seshat_info_Jul_22\", ALL_POLITIES=True)\n",
    "\n",
    "elapsed_time = time.time() - start_time\n",
    "elapsed_minutes = elapsed_time / 60\n",
    "\n",
    "print(\"Wiki Work: --- %s minutes ---\" % elapsed_minutes)"
   ]
  },
  {
   "cell_type": "code",
   "execution_count": null,
   "id": "outer-working",
   "metadata": {},
   "outputs": [],
   "source": [
    "all_unique_refs"
   ]
  },
  {
   "cell_type": "code",
   "execution_count": null,
   "id": "fixed-parliament",
   "metadata": {},
   "outputs": [],
   "source": [
    "# For analyzing unique refs\n",
    "\n",
    "from python_files import z_helpers, main_scraper\n",
    "file_folder_wiki = \"seshat_info_Jul_22\"\n",
    "file_folder_browser = \"seshat_browser_Jan_30_2023\"\n",
    "unique_refs_augmented_wiki, meta_data_wiki = z_helpers.ultimate_ref_dic_maker_plus(file_folder_wiki)\n",
    "unique_refs_augmented_browser, meta_data_browser = z_helpers.ultimate_ref_dic_maker_plus(file_folder_browser)"
   ]
  },
  {
   "cell_type": "code",
   "execution_count": null,
   "id": "informational-trick",
   "metadata": {},
   "outputs": [],
   "source": [
    "# For analyzing unique refs on browser\n",
    "\n",
    "from python_files import z_helpers, main_scraper\n",
    "\n",
    "#file_folder = \"seshat_info_Jul_22\"\n",
    "file_folder = \"seshat_browser_Jan_30_2023\"\n",
    "\n",
    "all_unique_refs = z_helpers.analyze_the_augmented_json_file(file_folder)"
   ]
  },
  {
   "cell_type": "code",
   "execution_count": null,
   "id": "official-henry",
   "metadata": {},
   "outputs": [],
   "source": [
    "# For analyzing all refs on wiki\n",
    "\n",
    "from python_files import z_helpers, main_scraper\n",
    "\n",
    "file_folder = \"seshat_info_Jul_22\"\n",
    "#file_folder = \"seshat_browser_Jan_30_2023\"\n",
    "\n",
    "all_unique_refs = z_helpers.analyze_the_augmented_json_file(file_folder)"
   ]
  },
  {
   "cell_type": "code",
   "execution_count": null,
   "id": "outer-internet",
   "metadata": {},
   "outputs": [],
   "source": [
    "for item in all_unique_refs[230:280]:\n",
    "    print(item)\n",
    "    print(\"______\")"
   ]
  },
  {
   "cell_type": "code",
   "execution_count": null,
   "id": "qualified-feelings",
   "metadata": {},
   "outputs": [],
   "source": [
    "'Barfield Thomas Afghanistan A Cultural and Political History',\n",
    "'Barfield Thomas Afghanistan a cultural and political history',\n",
    "'(Barfield 2010) Thomas Barfield 2010 Afghanistan a cultural and political history Princeton University Press',"
   ]
  },
  {
   "cell_type": "code",
   "execution_count": null,
   "id": "nervous-favorite",
   "metadata": {},
   "outputs": [],
   "source": [
    "import json\n",
    "augmented_json_folder = \"seshat_browser_Jan_30_2023\"\n",
    "augmented_json_file = \"a_dic_with_info_on_children_for_\" + augmented_json_folder + \".json\"\n",
    "with open(augmented_json_file) as json_file:\n",
    "    refs_dic = json.load(json_file)"
   ]
  },
  {
   "cell_type": "code",
   "execution_count": null,
   "id": "fabulous-behavior",
   "metadata": {},
   "outputs": [],
   "source": [
    "refs_json_folder = \"seshat_browser_Jan_30_2023\"\n",
    "\n",
    "refs_json_file = \"a_dic_with_info_on_children_for_\" + refs_json_folder + \".json\"\n",
    "with open(refs_json_file) as json_file:\n",
    "    refs_data = json.load(json_file)"
   ]
  },
  {
   "cell_type": "code",
   "execution_count": null,
   "id": "hearing-cutting",
   "metadata": {
    "slideshow": {
     "slide_type": "slide"
    }
   },
   "outputs": [],
   "source": [
    "import pandas as pd\n",
    "df_columns = [\"polity\", \"variable\", \"page_from\", \"page_to\", \"trimmed\", \"original\", \"trimplus\"]\n",
    "long_df = pd.DataFrame(columns = df_columns)\n",
    "\n",
    "for kk, vv in refs_data.items():\n",
    "    for values in vv:\n",
    "        my_polity = kk.split(\"_\")[-1]\n",
    "        zotero_id = \"HAS_NO_ZOTERO_YET\"\n",
    "        if values[\"zoteroID\"]:\n",
    "            zotero_id = values[\"zoteroID\"][0]\n",
    "        new_values_dic = {\n",
    "                           \"polity\":  my_polity,\n",
    "                           \"variable\":  \"xxx\",\n",
    "                           \"page_from\":  values.get(\"page_from\"),\n",
    "                           \"page_to\":  values.get(\"page_to\"),\n",
    "                            #\"zotero\": zotero_id ,\n",
    "                           \"trimmed\":  values[\"trimmedText\"],\n",
    "                            \"original\": values[\"originalText\"], \n",
    "            \"trimplus\": values[\"trimmedTextPLUS\"],\n",
    "                        }\n",
    "        long_df = long_df.append(new_values_dic, ignore_index = True)\n"
   ]
  },
  {
   "cell_type": "code",
   "execution_count": null,
   "id": "designed-israel",
   "metadata": {
    "slideshow": {
     "slide_type": "slide"
    }
   },
   "outputs": [],
   "source": [
    "from IPython.core.display import display, HTML\n",
    "display(HTML(\"<style>.container { width:100% !important; }</style>\"))\n",
    "\n",
    "pd.set_option('display.max_colwidth', -1)\n",
    "pd.set_option('display.max_columns', None)\n",
    "# Set the text alignment for the columns\n",
    "short_df = long_df[[\"polity\", \"page_from\", \"page_to\", \"original\", \"trimmed\", \"trimplus\"]]\n",
    "short_df.style.set_properties(**{'text-align': 'left'})\n",
    "def jaccard_similarity(str1, str2):\n",
    "    \"\"\"\n",
    "    Calculates the Jaccard similarity between two strings.\n",
    "    \n",
    "    Args:\n",
    "    str1 (str): The first string to compare.\n",
    "    str2 (str): The second string to compare.\n",
    "    \n",
    "    Returns:\n",
    "    float: A value between 0 and 1 representing the Jaccard similarity between the two strings.\n",
    "    \"\"\"\n",
    "    str1 = re.sub(r'\\W+', ' ', str1).lower()\n",
    "    str2 = re.sub(r'\\W+', ' ', str2).lower()\n",
    "    a = set(str1.split())\n",
    "    b = set(str2.split())\n",
    "    c = a.intersection(b)\n",
    "    #print(str1)\n",
    "    #print(str2)\n",
    "    return float(len(c)) / (len(a) + len(b) - len(c))\n",
    "\n",
    "for index, row in short_df.iterrows():\n",
    "    similarity = jaccard_similarity(row['trimplus'], \"Avari, Burjor. India: the ancient past: a history of the Indian sub-continent from c. 7000 BC to AD 1200. 2007,\")\n",
    "    if similarity > 0.6:\n",
    "        print(index, f\": ({similarity} and {row['polity']})\", row['trimplus'])\n",
    "#filtered_df = short_df[short_df['trimplus'].str.len() < 80 ]\n",
    "\n",
    "\n",
    "#filtered_df.head(30)"
   ]
  },
  {
   "cell_type": "code",
   "execution_count": null,
   "id": "pleased-commander",
   "metadata": {
    "scrolled": true
   },
   "outputs": [],
   "source": [
    "urls = 0\n",
    "for kk, vv in refs_dic.items():\n",
    "    for item in vv:\n",
    "        if item[\"trimmedText\"].lower().count('; ')>2 and \"&amp;\" not in item[\"trimmedText\"].lower() and \"for a brief look at the decline\" not in item[\"trimmedText\"].lower():\n",
    "            urls+=1\n",
    "            print(item)\n",
    "            print(f\"______{kk}______\")\n",
    "print(urls)"
   ]
  },
  {
   "cell_type": "code",
   "execution_count": null,
   "id": "extended-newport",
   "metadata": {},
   "outputs": [],
   "source": [
    "import re\n",
    "import numpy as np\n",
    "\n",
    "def jaccard_similarity(str1, str2):\n",
    "    \"\"\"\n",
    "    Calculates the Jaccard similarity between two strings.\n",
    "    \n",
    "    Args:\n",
    "    str1 (str): The first string to compare.\n",
    "    str2 (str): The second string to compare.\n",
    "    \n",
    "    Returns:\n",
    "    float: A value between 0 and 1 representing the Jaccard similarity between the two strings.\n",
    "    \"\"\"\n",
    "    str1 = re.sub(r'\\W+', ' ', str1).lower()\n",
    "    str2 = re.sub(r'\\W+', ' ', str2).lower()\n",
    "    a = set(str1.split())\n",
    "    b = set(str2.split())\n",
    "    c = a.intersection(b)\n",
    "    print(str1)\n",
    "    print(str2)\n",
    "    return float(len(c)) / (len(a) + len(b) - len(c))\n",
    "\n",
    "str1 = \"Barfield Thomas\"\n",
    "str2 = \"(Barfield 2010) Thomas\"\n",
    "\n",
    "print(\"Jaccard similarity: {:.5f}\".format(jaccard_similarity(str1, str2)))\n"
   ]
  },
  {
   "cell_type": "code",
   "execution_count": null,
   "id": "basic-nowhere",
   "metadata": {},
   "outputs": [],
   "source": []
  },
  {
   "cell_type": "code",
   "execution_count": null,
   "id": "thrown-architecture",
   "metadata": {},
   "outputs": [],
   "source": []
  },
  {
   "cell_type": "code",
   "execution_count": null,
   "id": "noticed-overview",
   "metadata": {
    "scrolled": false
   },
   "outputs": [],
   "source": [
    "from python_files import z_helpers, main_scraper\n",
    "z_helpers.check_page_finders_checklist(z_helpers.check_list)"
   ]
  },
  {
   "cell_type": "code",
   "execution_count": null,
   "id": "confirmed-maryland",
   "metadata": {},
   "outputs": [],
   "source": [
    "import pandas as pd\n",
    "\n",
    "# Read the JSON file into a pandas DataFrame\n",
    "df = pd.read_json('only_unique_citations_for_seshat_browser_Jan_30_2023.json')\n",
    "\n",
    "# Print the DataFrame\n",
    "print(df)\n"
   ]
  },
  {
   "cell_type": "code",
   "execution_count": null,
   "id": "imposed-interface",
   "metadata": {},
   "outputs": [],
   "source": [
    "from python_files import z_helpers, main_scraper\n",
    "my_str = \"d Capiven: Yale University Press, 357.)\"\n",
    "a,b, c = z_helpers.find_pages_in(my_str)"
   ]
  },
  {
   "cell_type": "markdown",
   "id": "prostate-helicopter",
   "metadata": {},
   "source": [
    "# Let's run the full nlp analysis"
   ]
  },
  {
   "cell_type": "code",
   "execution_count": null,
   "id": "atlantic-degree",
   "metadata": {},
   "outputs": [],
   "source": [
    "from python_files import z_helpers, main_scraper\n",
    "\n",
    "\n",
    "#root_dir = \"seshat_browser_Jan_30_2023\"\n",
    "root_dir = \"seshat_info_Jul_22\"\n",
    "\n",
    "main_scraper.nlp_vars_html_extractor(root_dir, ALL_POLITIES=True)\n"
   ]
  },
  {
   "cell_type": "code",
   "execution_count": 1,
   "id": "norman-pakistan",
   "metadata": {},
   "outputs": [],
   "source": [
    "import json\n",
    "with open(\"json_files/extra_ps_at_the_end_for_seshat_info_Jul_22.json\") as json_file:\n",
    "    extras = json.load(json_file)"
   ]
  },
  {
   "cell_type": "code",
   "execution_count": 2,
   "id": "excellent-lodging",
   "metadata": {},
   "outputs": [],
   "source": [
    "import json\n",
    "with open(\"a_dic_with_info_on_children_for_seshat_info_Jul_22.json\") as json_file:\n",
    "    details = json.load(json_file)"
   ]
  },
  {
   "cell_type": "code",
   "execution_count": null,
   "id": "fifth-olive",
   "metadata": {},
   "outputs": [],
   "source": [
    "details[\"REF_3_AfDurrn\"]"
   ]
  },
  {
   "cell_type": "code",
   "execution_count": 3,
   "id": "tamil-setting",
   "metadata": {
    "scrolled": true
   },
   "outputs": [
    {
     "name": "stderr",
     "output_type": "stream",
     "text": [
      "/usr/lib/python3/dist-packages/requests/__init__.py:89: RequestsDependencyWarning: urllib3 (1.26.7) or chardet (3.0.4) doesn't match a supported version!\n",
      "  warnings.warn(\"urllib3 ({}) or chardet ({}) doesn't match a supported \"\n"
     ]
    },
    {
     "name": "stdout",
     "output_type": "stream",
     "text": [
      "TWO HITs in REF_756_CnWHan*: ['Lewis, M. E. 2015. \"Public Spaces in Cities in the Roman and Han Empires,\" in W. Scheidel (ed.) State Power in Ancient China and Rome. Oxford Unviersity Press.', 'Scheidel, W. 2015. “State Revenue and Expenditure in the Han and Roman Empires,” in W. Scheidel (ed.) State Power in Ancient China and Rome. Oxford Unviersity Press.', 'Zhao, D. 2015. \"The Han Bureaucracy: Its Origin, Structure and Development,\" in in W. Scheidel (ed.) State Power in Ancient China and Rome. Oxford University Press. Seshat URL:<a rel=\"nofollow\" class=\"external free\" href=\"https://www.zotero.org/groups/1051264/seshat_databank/items/itemKey/QBD9EVZQ\">https://www.zotero.org/groups/1051264/seshat_databank/items/itemKey/QBD9EVZQ</a>']\n",
      "_____________\n",
      "TWO HITs in REF_2_PeCuzL1: ['Andrushko, V A. 2007. The Bioarchaeology of Inca Imperialism in the Heartland: An Analysis of Prehistoric Burials from the Cuzco Region of Peru. A Dissertation submitted in partial satisfaction of the requirements for the degree Doctor of Philosophy in Anthropology. University of California. Santa Barbara.Covey, R A. 2006. How The Incas Built Their Heartland. State Formation and the Innovation of Imperial Strategies in the Sacred Valley, Peru. University of Michigan, Ann Arbor', 'Covey, R A. 2006a. How The Incas Built Their Heartland. State Formation and the Innovation of Imperial Strategies in the Sacred Valley, Peru. University of Michigan, Ann Arbor', 'Covey, R.A. 2006b. Intermediate Elites in the Inka Heartland, AD 1000-1500. In Elson, C. and R. A. Covey (eds), Intermediate Elites in Pre-Columbian States and Empires. Tucson: The University of Arizona Press.']\n",
      "_____________\n",
      "TWO HITs in REF_3_PeCuzL1: ['Andrushko, V A. 2007. The Bioarchaeology of Inca Imperialism in the Heartland: An Analysis of Prehistoric Burials from the Cuzco Region of Peru. A Dissertation submitted in partial satisfaction of the requirements for the degree Doctor of Philosophy in Anthropology. University of California. Santa Barbara.Covey, R A. 2006. How The Incas Built Their Heartland. State Formation and the Innovation of Imperial Strategies in the Sacred Valley, Peru. University of Michigan, Ann Arbor', 'Covey, R A. 2006a. How The Incas Built Their Heartland. State Formation and the Innovation of Imperial Strategies in the Sacred Valley, Peru. University of Michigan, Ann Arbor', 'Covey, R.A. 2006b. Intermediate Elites in the Inka Heartland, AD 1000-1500. In Elson, C. and R. A. Covey (eds), Intermediate Elites in Pre-Columbian States and Empires. Tucson: The University of Arizona Press.']\n",
      "_____________\n",
      "TWO HITs in REF_4_PeCuzL1: ['Andrushko, V A. 2007. The Bioarchaeology of Inca Imperialism in the Heartland: An Analysis of Prehistoric Burials from the Cuzco Region of Peru. A Dissertation submitted in partial satisfaction of the requirements for the degree Doctor of Philosophy in Anthropology. University of California. Santa Barbara.Covey, R A. 2006. How The Incas Built Their Heartland. State Formation and the Innovation of Imperial Strategies in the Sacred Valley, Peru. University of Michigan, Ann Arbor', 'Covey, R A. 2006a. How The Incas Built Their Heartland. State Formation and the Innovation of Imperial Strategies in the Sacred Valley, Peru. University of Michigan, Ann Arbor', 'Covey, R.A. 2006b. Intermediate Elites in the Inka Heartland, AD 1000-1500. In Elson, C. and R. A. Covey (eds), Intermediate Elites in Pre-Columbian States and Empires. Tucson: The University of Arizona Press.']\n",
      "_____________\n",
      "TWO HITs in REF_6_PeCuzL1: ['Andrushko, V A. 2007. The Bioarchaeology of Inca Imperialism in the Heartland: An Analysis of Prehistoric Burials from the Cuzco Region of Peru. A Dissertation submitted in partial satisfaction of the requirements for the degree Doctor of Philosophy in Anthropology. University of California. Santa Barbara.Covey, R A. 2006. How The Incas Built Their Heartland. State Formation and the Innovation of Imperial Strategies in the Sacred Valley, Peru. University of Michigan, Ann Arbor', 'Covey, R A. 2006a. How The Incas Built Their Heartland. State Formation and the Innovation of Imperial Strategies in the Sacred Valley, Peru. University of Michigan, Ann Arbor', 'Covey, R.A. 2006b. Intermediate Elites in the Inka Heartland, AD 1000-1500. In Elson, C. and R. A. Covey (eds), Intermediate Elites in Pre-Columbian States and Empires. Tucson: The University of Arizona Press.']\n",
      "_____________\n",
      "TWO HITs in REF_7_PeCuzL1: ['Andrushko, V A. 2007. The Bioarchaeology of Inca Imperialism in the Heartland: An Analysis of Prehistoric Burials from the Cuzco Region of Peru. A Dissertation submitted in partial satisfaction of the requirements for the degree Doctor of Philosophy in Anthropology. University of California. Santa Barbara.Covey, R A. 2006. How The Incas Built Their Heartland. State Formation and the Innovation of Imperial Strategies in the Sacred Valley, Peru. University of Michigan, Ann Arbor', 'Covey, R A. 2006a. How The Incas Built Their Heartland. State Formation and the Innovation of Imperial Strategies in the Sacred Valley, Peru. University of Michigan, Ann Arbor', 'Covey, R.A. 2006b. Intermediate Elites in the Inka Heartland, AD 1000-1500. In Elson, C. and R. A. Covey (eds), Intermediate Elites in Pre-Columbian States and Empires. Tucson: The University of Arizona Press.']\n",
      "_____________\n",
      "TWO HITs in REF_8_PeCuzL1: ['Andrushko, V A. 2007. The Bioarchaeology of Inca Imperialism in the Heartland: An Analysis of Prehistoric Burials from the Cuzco Region of Peru. A Dissertation submitted in partial satisfaction of the requirements for the degree Doctor of Philosophy in Anthropology. University of California. Santa Barbara.Covey, R A. 2006. How The Incas Built Their Heartland. State Formation and the Innovation of Imperial Strategies in the Sacred Valley, Peru. University of Michigan, Ann Arbor', 'Covey, R A. 2006a. How The Incas Built Their Heartland. State Formation and the Innovation of Imperial Strategies in the Sacred Valley, Peru. University of Michigan, Ann Arbor', 'Covey, R.A. 2006b. Intermediate Elites in the Inka Heartland, AD 1000-1500. In Elson, C. and R. A. Covey (eds), Intermediate Elites in Pre-Columbian States and Empires. Tucson: The University of Arizona Press.']\n",
      "_____________\n",
      "TWO HITs in REF_10_PeCuzL1: ['Andrushko, V A. 2007. The Bioarchaeology of Inca Imperialism in the Heartland: An Analysis of Prehistoric Burials from the Cuzco Region of Peru. A Dissertation submitted in partial satisfaction of the requirements for the degree Doctor of Philosophy in Anthropology. University of California. Santa Barbara.Covey, R A. 2006. How The Incas Built Their Heartland. State Formation and the Innovation of Imperial Strategies in the Sacred Valley, Peru. University of Michigan, Ann Arbor', 'Covey, R A. 2006a. How The Incas Built Their Heartland. State Formation and the Innovation of Imperial Strategies in the Sacred Valley, Peru. University of Michigan, Ann Arbor', 'Covey, R.A. 2006b. Intermediate Elites in the Inka Heartland, AD 1000-1500. In Elson, C. and R. A. Covey (eds), Intermediate Elites in Pre-Columbian States and Empires. Tucson: The University of Arizona Press.']\n",
      "_____________\n",
      "TWO HITs in REF_21_PeCuzL1: ['Andrushko, V A. 2007. The Bioarchaeology of Inca Imperialism in the Heartland: An Analysis of Prehistoric Burials from the Cuzco Region of Peru. A Dissertation submitted in partial satisfaction of the requirements for the degree Doctor of Philosophy in Anthropology. University of California. Santa Barbara.Covey, R A. 2006. How The Incas Built Their Heartland. State Formation and the Innovation of Imperial Strategies in the Sacred Valley, Peru. University of Michigan, Ann Arbor', 'Covey, R A. 2006a. How The Incas Built Their Heartland. State Formation and the Innovation of Imperial Strategies in the Sacred Valley, Peru. University of Michigan, Ann Arbor', 'Covey, R.A. 2006b. Intermediate Elites in the Inka Heartland, AD 1000-1500. In Elson, C. and R. A. Covey (eds), Intermediate Elites in Pre-Columbian States and Empires. Tucson: The University of Arizona Press.']\n",
      "_____________\n",
      "TWO HITs in REF_24_PeCuzL1: ['Andrushko, V A. 2007. The Bioarchaeology of Inca Imperialism in the Heartland: An Analysis of Prehistoric Burials from the Cuzco Region of Peru. A Dissertation submitted in partial satisfaction of the requirements for the degree Doctor of Philosophy in Anthropology. University of California. Santa Barbara.Covey, R A. 2006. How The Incas Built Their Heartland. State Formation and the Innovation of Imperial Strategies in the Sacred Valley, Peru. University of Michigan, Ann Arbor', 'Covey, R A. 2006a. How The Incas Built Their Heartland. State Formation and the Innovation of Imperial Strategies in the Sacred Valley, Peru. University of Michigan, Ann Arbor', 'Covey, R.A. 2006b. Intermediate Elites in the Inka Heartland, AD 1000-1500. In Elson, C. and R. A. Covey (eds), Intermediate Elites in Pre-Columbian States and Empires. Tucson: The University of Arizona Press.']\n",
      "_____________\n",
      "TWO HITs in REF_25_PeCuzL1: ['Andrushko, V A. 2007. The Bioarchaeology of Inca Imperialism in the Heartland: An Analysis of Prehistoric Burials from the Cuzco Region of Peru. A Dissertation submitted in partial satisfaction of the requirements for the degree Doctor of Philosophy in Anthropology. University of California. Santa Barbara.Covey, R A. 2006. How The Incas Built Their Heartland. State Formation and the Innovation of Imperial Strategies in the Sacred Valley, Peru. University of Michigan, Ann Arbor', 'Covey, R A. 2006a. How The Incas Built Their Heartland. State Formation and the Innovation of Imperial Strategies in the Sacred Valley, Peru. University of Michigan, Ann Arbor', 'Covey, R.A. 2006b. Intermediate Elites in the Inka Heartland, AD 1000-1500. In Elson, C. and R. A. Covey (eds), Intermediate Elites in Pre-Columbian States and Empires. Tucson: The University of Arizona Press.']\n",
      "_____________\n",
      "TWO HITs in REF_66_PeCuzL1: ['Andrushko, V A. 2007. The Bioarchaeology of Inca Imperialism in the Heartland: An Analysis of Prehistoric Burials from the Cuzco Region of Peru. A Dissertation submitted in partial satisfaction of the requirements for the degree Doctor of Philosophy in Anthropology. University of California. Santa Barbara.Covey, R A. 2006. How The Incas Built Their Heartland. State Formation and the Innovation of Imperial Strategies in the Sacred Valley, Peru. University of Michigan, Ann Arbor', 'Covey, R A. 2006a. How The Incas Built Their Heartland. State Formation and the Innovation of Imperial Strategies in the Sacred Valley, Peru. University of Michigan, Ann Arbor', 'Covey, R.A. 2006b. Intermediate Elites in the Inka Heartland, AD 1000-1500. In Elson, C. and R. A. Covey (eds), Intermediate Elites in Pre-Columbian States and Empires. Tucson: The University of Arizona Press.']\n",
      "_____________\n",
      "TWO HITs in REF_73_PeCuzL1: ['Andrushko, V A. 2007. The Bioarchaeology of Inca Imperialism in the Heartland: An Analysis of Prehistoric Burials from the Cuzco Region of Peru. A Dissertation submitted in partial satisfaction of the requirements for the degree Doctor of Philosophy in Anthropology. University of California. Santa Barbara.Covey, R A. 2006. How The Incas Built Their Heartland. State Formation and the Innovation of Imperial Strategies in the Sacred Valley, Peru. University of Michigan, Ann Arbor', 'Covey, R A. 2006a. How The Incas Built Their Heartland. State Formation and the Innovation of Imperial Strategies in the Sacred Valley, Peru. University of Michigan, Ann Arbor', 'Covey, R.A. 2006b. Intermediate Elites in the Inka Heartland, AD 1000-1500. In Elson, C. and R. A. Covey (eds), Intermediate Elites in Pre-Columbian States and Empires. Tucson: The University of Arizona Press.']\n",
      "_____________\n",
      "TWO HITs in REF_79_PeCuzL1: ['Andrushko, V A. 2007. The Bioarchaeology of Inca Imperialism in the Heartland: An Analysis of Prehistoric Burials from the Cuzco Region of Peru. A Dissertation submitted in partial satisfaction of the requirements for the degree Doctor of Philosophy in Anthropology. University of California. Santa Barbara.Covey, R A. 2006. How The Incas Built Their Heartland. State Formation and the Innovation of Imperial Strategies in the Sacred Valley, Peru. University of Michigan, Ann Arbor', 'Covey, R A. 2006a. How The Incas Built Their Heartland. State Formation and the Innovation of Imperial Strategies in the Sacred Valley, Peru. University of Michigan, Ann Arbor', 'Covey, R.A. 2006b. Intermediate Elites in the Inka Heartland, AD 1000-1500. In Elson, C. and R. A. Covey (eds), Intermediate Elites in Pre-Columbian States and Empires. Tucson: The University of Arizona Press.']\n",
      "_____________\n",
      "TWO HITs in REF_83_PeCuzL1: ['Andrushko, V A. 2007. The Bioarchaeology of Inca Imperialism in the Heartland: An Analysis of Prehistoric Burials from the Cuzco Region of Peru. A Dissertation submitted in partial satisfaction of the requirements for the degree Doctor of Philosophy in Anthropology. University of California. Santa Barbara.Covey, R A. 2006. How The Incas Built Their Heartland. State Formation and the Innovation of Imperial Strategies in the Sacred Valley, Peru. University of Michigan, Ann Arbor', 'Covey, R A. 2006a. How The Incas Built Their Heartland. State Formation and the Innovation of Imperial Strategies in the Sacred Valley, Peru. University of Michigan, Ann Arbor', 'Covey, R.A. 2006b. Intermediate Elites in the Inka Heartland, AD 1000-1500. In Elson, C. and R. A. Covey (eds), Intermediate Elites in Pre-Columbian States and Empires. Tucson: The University of Arizona Press.']\n",
      "_____________\n",
      "TWO HITs in REF_122_PeCuzL1: ['Andrushko, V A. 2007. The Bioarchaeology of Inca Imperialism in the Heartland: An Analysis of Prehistoric Burials from the Cuzco Region of Peru. A Dissertation submitted in partial satisfaction of the requirements for the degree Doctor of Philosophy in Anthropology. University of California. Santa Barbara.Covey, R A. 2006. How The Incas Built Their Heartland. State Formation and the Innovation of Imperial Strategies in the Sacred Valley, Peru. University of Michigan, Ann Arbor', 'Covey, R A. 2006a. How The Incas Built Their Heartland. State Formation and the Innovation of Imperial Strategies in the Sacred Valley, Peru. University of Michigan, Ann Arbor', 'Covey, R.A. 2006b. Intermediate Elites in the Inka Heartland, AD 1000-1500. In Elson, C. and R. A. Covey (eds), Intermediate Elites in Pre-Columbian States and Empires. Tucson: The University of Arizona Press.']\n",
      "_____________\n",
      "TWO HITs in REF_126_PeCuzL1: ['Andrushko, V A. 2007. The Bioarchaeology of Inca Imperialism in the Heartland: An Analysis of Prehistoric Burials from the Cuzco Region of Peru. A Dissertation submitted in partial satisfaction of the requirements for the degree Doctor of Philosophy in Anthropology. University of California. Santa Barbara.Covey, R A. 2006. How The Incas Built Their Heartland. State Formation and the Innovation of Imperial Strategies in the Sacred Valley, Peru. University of Michigan, Ann Arbor', 'Covey, R A. 2006a. How The Incas Built Their Heartland. State Formation and the Innovation of Imperial Strategies in the Sacred Valley, Peru. University of Michigan, Ann Arbor', 'Covey, R.A. 2006b. Intermediate Elites in the Inka Heartland, AD 1000-1500. In Elson, C. and R. A. Covey (eds), Intermediate Elites in Pre-Columbian States and Empires. Tucson: The University of Arizona Press.']\n",
      "_____________\n",
      "TWO HITs in REF_129_PeCuzL1: ['Andrushko, V A. 2007. The Bioarchaeology of Inca Imperialism in the Heartland: An Analysis of Prehistoric Burials from the Cuzco Region of Peru. A Dissertation submitted in partial satisfaction of the requirements for the degree Doctor of Philosophy in Anthropology. University of California. Santa Barbara.Covey, R A. 2006. How The Incas Built Their Heartland. State Formation and the Innovation of Imperial Strategies in the Sacred Valley, Peru. University of Michigan, Ann Arbor', 'Covey, R A. 2006a. How The Incas Built Their Heartland. State Formation and the Innovation of Imperial Strategies in the Sacred Valley, Peru. University of Michigan, Ann Arbor', 'Covey, R.A. 2006b. Intermediate Elites in the Inka Heartland, AD 1000-1500. In Elson, C. and R. A. Covey (eds), Intermediate Elites in Pre-Columbian States and Empires. Tucson: The University of Arizona Press.']\n",
      "_____________\n",
      "TWO HITs in REF_133_PeCuzL1: ['Andrushko, V A. 2007. The Bioarchaeology of Inca Imperialism in the Heartland: An Analysis of Prehistoric Burials from the Cuzco Region of Peru. A Dissertation submitted in partial satisfaction of the requirements for the degree Doctor of Philosophy in Anthropology. University of California. Santa Barbara.Covey, R A. 2006. How The Incas Built Their Heartland. State Formation and the Innovation of Imperial Strategies in the Sacred Valley, Peru. University of Michigan, Ann Arbor', 'Covey, R A. 2006a. How The Incas Built Their Heartland. State Formation and the Innovation of Imperial Strategies in the Sacred Valley, Peru. University of Michigan, Ann Arbor', 'Covey, R.A. 2006b. Intermediate Elites in the Inka Heartland, AD 1000-1500. In Elson, C. and R. A. Covey (eds), Intermediate Elites in Pre-Columbian States and Empires. Tucson: The University of Arizona Press.']\n",
      "_____________\n",
      "TWO HITs in REF_151_PeCuzL1: ['Andrushko, V A. 2007. The Bioarchaeology of Inca Imperialism in the Heartland: An Analysis of Prehistoric Burials from the Cuzco Region of Peru. A Dissertation submitted in partial satisfaction of the requirements for the degree Doctor of Philosophy in Anthropology. University of California. Santa Barbara.Covey, R A. 2006. How The Incas Built Their Heartland. State Formation and the Innovation of Imperial Strategies in the Sacred Valley, Peru. University of Michigan, Ann Arbor', 'Covey, R A. 2006a. How The Incas Built Their Heartland. State Formation and the Innovation of Imperial Strategies in the Sacred Valley, Peru. University of Michigan, Ann Arbor', 'Covey, R.A. 2006b. Intermediate Elites in the Inka Heartland, AD 1000-1500. In Elson, C. and R. A. Covey (eds), Intermediate Elites in Pre-Columbian States and Empires. Tucson: The University of Arizona Press.']\n",
      "_____________\n"
     ]
    },
    {
     "name": "stdout",
     "output_type": "stream",
     "text": [
      "TWO HITs in REF_82_UzChagt: ['<div>Akhmedov, B. revised by Sinor, D. 1998. Central Asia under the rule of Successors. In M.S. Asimov and C.E. Bosworth (eds.) History of Civilizations of Central Asia. The age of achievement: A.D. 750 to the end of the fifteenth century. Volume IV. Part One The historical, social and economic setting, pp. 265-272. Paris: UNESCO', 'Ashrafyan. K. Z. 1998. CENTRAL ASIA UNDER TIMUR FROM 1370 TO THE EARLY FIFTEENTH CENTURY. In M.S. Asimov and C.E. Bosworth (eds.) History of Civilizations of Central Asia. The age of achievement: A.D. 750 to the end of the fifteenth century. Volume IV. Part One The historical, social and economic setting, pp.323-349. Paris: UNESCO.', 'Bosworth, C. E. 1998. THE DELHI SULTANATE, 1316-1526. In M.S. Asimov and C.E. Bosworth (eds.) History of Civilizations of Central Asia. The age of achievement: A.D. 750 to the end of the fifteenth century. Volume IV. Part One The historical, social and economic setting, pp. 284-296. Paris: UNESCO.']\n",
      "_____________\n",
      "4120  out of  8210  had a Hit.\n",
      "21  out of  8210  had two Hits.\n",
      "23154  out of  8210  had a third Hit.\n"
     ]
    }
   ],
   "source": [
    "from python_files import z_helpers, main_scraper\n",
    "\n",
    "\n",
    "shorties = 0\n",
    "good_shorties = 0\n",
    "good_shorties_all = 0\n",
    "two_hits = 0\n",
    "\n",
    "all_the_ps_in_all_polities = [] \n",
    "for kk, vv in extras.items():\n",
    "    for a_thing in vv:\n",
    "        all_the_ps_in_all_polities.append(a_thing)\n",
    "for key, value in details.items():\n",
    "    polity_name = key.split(\"_\")[-1]\n",
    "    #if polity_name == \"CnNWei*\":\n",
    "    #    print(key)\n",
    "    for index, item in enumerate(value):\n",
    "        if item[\"originalText\"] == \"SAME_AS_TRIMMED\":\n",
    "            x = item[\"trimmedText\"]\n",
    "        else:   \n",
    "            x = item[\"originalText\"]\n",
    "        #if polity_name == \"CnNWei*\":\n",
    "        #    print(x)\n",
    "        #    print(\"***********\")\n",
    "        if len(x) < 40:\n",
    "            shorties+=1\n",
    "            # find the year\n",
    "            the_year_plus_in_shortie =  z_helpers.find_the_year_plus(x)\n",
    "            the_top_ws_in_shortie =  z_helpers.first_three_words_finder(x)\n",
    "            the_ps_below = extras[polity_name]\n",
    "            \n",
    "            potential_hits = []\n",
    "            for a_p in the_ps_below:\n",
    "                number_of_hits = 0\n",
    "                num_of_words = len(the_top_ws_in_shortie)\n",
    "                for a_w in the_top_ws_in_shortie:\n",
    "                    if the_year_plus_in_shortie and the_year_plus_in_shortie[0] in a_p and len(a_w) > 4 and a_w.lower() in a_p.lower():\n",
    "                        #print(f\"HIT: {x}  ----->  in {key} \\n {a_p}***\")\n",
    "                        #print(\"_____________\")\n",
    "                        number_of_hits+=1\n",
    "                        #potential_hits.append(a_p)\n",
    "                        #details[key][index][\"second_chance\"] = a_p\n",
    "                if number_of_hits == num_of_words:\n",
    "                    # high probability hit:\n",
    "                    potential_hits.append(a_p)\n",
    "                    #details[key][index][\"second_chance_high\"] = a_p\n",
    "                elif number_of_hits == 2 and num_of_words ==3 and a_p not in potential_hits:\n",
    "                    # 66% highly probale\n",
    "                    potential_hits.append(a_p)\n",
    "                    #details[key][index][\"second_chance_medium\"] = a_p\n",
    "            if len(potential_hits) == 1:\n",
    "                # Very likely hit:\n",
    "                good_shorties+=1\n",
    "                details[key][index][\"second_chance_high\"] = a_p\n",
    "            elif len(potential_hits) == 0:\n",
    "                print(f\"NOOOOOOOOOOOO HITs in {key}: {potential_hits}\")\n",
    "                two_hits+=1\n",
    "                print(\"_____________\")\n",
    "                    \n",
    "            \n",
    "            # We need to fo a similar approach for third hits (from all polities)        \n",
    "            for a_p in all_the_ps_in_all_polities:\n",
    "                for a_w in the_top_ws_in_shortie:\n",
    "                    if the_year_plus_in_shortie and \"second_chance\" not in details[key][index].keys() and the_year_plus_in_shortie[0] in a_p and len(a_w) > 4 and a_w.lower() in a_p.lower():\n",
    "                        #print(f\"HIT  +++++ : {x}  ----->  in {key} \\n {a_p}***\")\n",
    "                        #print(\"_____________\")\n",
    "                        good_shorties_all+=1\n",
    "                        details[key][index][\"second_chance_from_all_pols\"] = a_p\n",
    "                        break            #print(x)\n",
    "\n",
    "print(good_shorties, \" out of \", shorties, \" had a Hit.\")\n",
    "print(two_hits, \" out of \", shorties, \" had two Hits.\")\n",
    "\n",
    "print(good_shorties_all, \" out of \", shorties, \" had a third Hit.\")"
   ]
  },
  {
   "cell_type": "code",
   "execution_count": null,
   "id": "compliant-publication",
   "metadata": {},
   "outputs": [],
   "source": [
    "badies = 0\n",
    "for key, value in details.items():\n",
    "    for item in value:\n",
    "        if len(item[\"trimmedText\"]) < 40 and \"second_chance\" in item.keys() and \"second_chance_from_all_pols\" in item.keys():\n",
    "            print(key, item)\n",
    "            badies+=1\n",
    "print(badies)\n",
    "#details[\"REF_567_CnEHan*\"]"
   ]
  },
  {
   "cell_type": "code",
   "execution_count": null,
   "id": "impaired-scheme",
   "metadata": {},
   "outputs": [],
   "source": []
  },
  {
   "cell_type": "code",
   "execution_count": null,
   "id": "needed-console",
   "metadata": {},
   "outputs": [],
   "source": [
    "\"Gabriel (2003:)\"\n",
    "\"See review in Kletter (2002).\"\n",
    "\"(Lewis 1999b)\"\n",
    "\"(Lorge, 2012)\""
   ]
  },
  {
   "cell_type": "code",
   "execution_count": null,
   "id": "increasing-balance",
   "metadata": {},
   "outputs": [],
   "source": [
    "import re\n",
    "\n",
    "def find_the_year_plus(a_str):\n",
    "    \"\"\"\n",
    "    Finds the first three words in a string (or the first two, or the first one)\n",
    "    \"\"\"\n",
    "    regex = r\"(\\d{4}[abc]?)\"\n",
    "    match = re.search(regex, a_str)\n",
    "    if match:\n",
    "        words = [match.group(i) for i in range(1, 2) if match.group(i)]\n",
    "        return words\n",
    "    else:\n",
    "        return []"
   ]
  },
  {
   "cell_type": "code",
   "execution_count": null,
   "id": "guided-starter",
   "metadata": {},
   "outputs": [],
   "source": [
    "from python_files import z_helpers, main_scraper\n",
    "\n",
    "z_helpers.first_three_words_finder(\"(Hulsewé 1986, 543)\")"
   ]
  },
  {
   "cell_type": "code",
   "execution_count": null,
   "id": "perceived-nutrition",
   "metadata": {},
   "outputs": [],
   "source": []
  },
  {
   "cell_type": "code",
   "execution_count": null,
   "id": "desperate-professional",
   "metadata": {},
   "outputs": [],
   "source": [
    "extras[\"CnEHan*\"]"
   ]
  },
  {
   "cell_type": "code",
   "execution_count": null,
   "id": "prepared-cookbook",
   "metadata": {},
   "outputs": [],
   "source": []
  }
 ],
 "metadata": {
  "kernelspec": {
   "display_name": "Python 3",
   "language": "python",
   "name": "python3"
  },
  "language_info": {
   "codemirror_mode": {
    "name": "ipython",
    "version": 3
   },
   "file_extension": ".py",
   "mimetype": "text/x-python",
   "name": "python",
   "nbconvert_exporter": "python",
   "pygments_lexer": "ipython3",
   "version": "3.8.10"
  }
 },
 "nbformat": 4,
 "nbformat_minor": 5
}
